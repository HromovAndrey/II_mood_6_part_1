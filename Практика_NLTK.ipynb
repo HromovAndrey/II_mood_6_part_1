{
  "nbformat": 4,
  "nbformat_minor": 0,
  "metadata": {
    "colab": {
      "provenance": [],
      "include_colab_link": true
    },
    "kernelspec": {
      "name": "python3",
      "display_name": "Python 3"
    },
    "language_info": {
      "name": "python"
    }
  },
  "cells": [
    {
      "cell_type": "markdown",
      "metadata": {
        "id": "view-in-github",
        "colab_type": "text"
      },
      "source": [
        "<a href=\"https://colab.research.google.com/github/HromovAndrey/II_mood_6_part_1/blob/main/%D0%9F%D1%80%D0%B0%D0%BA%D1%82%D0%B8%D0%BA%D0%B0_NLTK.ipynb\" target=\"_parent\"><img src=\"https://colab.research.google.com/assets/colab-badge.svg\" alt=\"Open In Colab\"/></a>"
      ]
    },
    {
      "cell_type": "markdown",
      "source": [
        "# Завдання 1\n",
        "Проведіть токенизацію тексту:\n",
        " * Розділіть текст на речення\n",
        " * Кожне речення розділіть на слова. Результатом має бути `list[list]` де скажімо `data[5][10]` означає 10-те слово з 5-го речення(індексація з 0)\n",
        " * Видаліть пунктуацію та стоп-слова\n",
        " * Створіть список усіх слів з тексту 'words`"
      ],
      "metadata": {
        "id": "nKUjkCZVCs08"
      }
    },
    {
      "cell_type": "code",
      "execution_count": 4,
      "metadata": {
        "id": "uq_Bleym56q9"
      },
      "outputs": [],
      "source": [
        "text = \"\"\"Mrs Pig was very tired: 'Oh dear,' she said to her three little pigs, 'I can’t do this work anymore, I’m afraid you must leave home and make your own way in the world.' So the three little pigs set off.\n",
        "\n",
        "The first little pig met a man carrying a bundle of straw.\n",
        "\n",
        "'Excuse me,' said the first little pig politely. 'Would you please sell some of your straw so I can make a house?'\n",
        "\n",
        "The man readily agreed and the first little pig went off to find a good place to build his house.\n",
        "\n",
        "The other little pigs carried on along the road and, soon, they met a man carrying a bundle of sticks.\n",
        "\n",
        "'Excuse me,' said the little pig politely. 'Would you please sell me some sticks so I can build a house?'\n",
        "\n",
        "The man readily agreed and the little pig said goodbye to his brother.\n",
        "\n",
        "The third little pig didn’t think much of their ideas:\n",
        "\n",
        "'I’m going to build myself a much bigger, better, stronger house,' he thought, and he carried off down the road until he met a man with a cart load of bricks.\n",
        "\n",
        "'Excuse me,' said the third little pig, as politely as his mother had taught him. 'Please can you sell me some bricks so I can build a house?'\n",
        "\n",
        "'Of course,' said the man. 'Where would you like me to unload them?'\n",
        "\n",
        "The third little pig looked around and saw a nice patch of ground under a tree.\n",
        "\n",
        "'Over there,' he pointed.\n",
        "\n",
        "They all set to work and by nighttime the house of straw and the house of sticks were built but the house of bricks was only just beginning to rise above the ground. The first and second little pigs laughed, they thought their brother was really silly having to work so hard when they had finished.\"\"\""
      ]
    },
    {
      "cell_type": "code",
      "source": [
        "import nltk\n",
        "from nltk.tokenize import sent_tokenize, word_tokenize\n",
        "from nltk.corpus import stopwords\n",
        "import string\n",
        "from nltk import pos_tag, RegexpParser\n",
        "from nltk.stem import PorterStemmer, WordNetLemmatizer\n",
        "import pandas as pd\n",
        "import nltk\n",
        "from nltk.tokenize import word_tokenize\n",
        "from nltk import pos_tag, RegexpParser"
      ],
      "metadata": {
        "id": "q3A5mqf0f6DZ"
      },
      "execution_count": 50,
      "outputs": []
    },
    {
      "cell_type": "code",
      "source": [
        "nltk.download('stopwords')\n",
        "nltk.download('punkt')"
      ],
      "metadata": {
        "colab": {
          "base_uri": "https://localhost:8080/"
        },
        "id": "8qr5v20FgE5d",
        "outputId": "8f973451-ee5f-46e0-9669-e4a234d48d67"
      },
      "execution_count": 6,
      "outputs": [
        {
          "output_type": "stream",
          "name": "stderr",
          "text": [
            "[nltk_data] Downloading package stopwords to /root/nltk_data...\n",
            "[nltk_data]   Unzipping corpora/stopwords.zip.\n",
            "[nltk_data] Downloading package punkt to /root/nltk_data...\n",
            "[nltk_data]   Package punkt is already up-to-date!\n"
          ]
        },
        {
          "output_type": "execute_result",
          "data": {
            "text/plain": [
              "True"
            ]
          },
          "metadata": {},
          "execution_count": 6
        }
      ]
    },
    {
      "cell_type": "code",
      "source": [
        "sentences = sent_tokenize(text)"
      ],
      "metadata": {
        "id": "Sm0un0xwgI-Z"
      },
      "execution_count": 7,
      "outputs": []
    },
    {
      "cell_type": "code",
      "source": [
        "type(sentences), len(sentences)"
      ],
      "metadata": {
        "colab": {
          "base_uri": "https://localhost:8080/"
        },
        "id": "rPzCjGJqhQQL",
        "outputId": "c0da4f5b-c505-4aa5-80fd-cb7c986edc06"
      },
      "execution_count": 8,
      "outputs": [
        {
          "output_type": "execute_result",
          "data": {
            "text/plain": [
              "(list, 19)"
            ]
          },
          "metadata": {},
          "execution_count": 8
        }
      ]
    },
    {
      "cell_type": "code",
      "source": [
        "sentences"
      ],
      "metadata": {
        "colab": {
          "base_uri": "https://localhost:8080/"
        },
        "id": "MrubIsIXhVVE",
        "outputId": "5656379e-69b4-4e97-9b79-fc93faabebd7"
      },
      "execution_count": 9,
      "outputs": [
        {
          "output_type": "execute_result",
          "data": {
            "text/plain": [
              "[\"Mrs Pig was very tired: 'Oh dear,' she said to her three little pigs, 'I can’t do this work anymore, I’m afraid you must leave home and make your own way in the world.'\",\n",
              " 'So the three little pigs set off.',\n",
              " 'The first little pig met a man carrying a bundle of straw.',\n",
              " \"'Excuse me,' said the first little pig politely.\",\n",
              " \"'Would you please sell some of your straw so I can make a house?'\",\n",
              " 'The man readily agreed and the first little pig went off to find a good place to build his house.',\n",
              " 'The other little pigs carried on along the road and, soon, they met a man carrying a bundle of sticks.',\n",
              " \"'Excuse me,' said the little pig politely.\",\n",
              " \"'Would you please sell me some sticks so I can build a house?'\",\n",
              " 'The man readily agreed and the little pig said goodbye to his brother.',\n",
              " \"The third little pig didn’t think much of their ideas:\\n\\n'I’m going to build myself a much bigger, better, stronger house,' he thought, and he carried off down the road until he met a man with a cart load of bricks.\",\n",
              " \"'Excuse me,' said the third little pig, as politely as his mother had taught him.\",\n",
              " \"'Please can you sell me some bricks so I can build a house?'\",\n",
              " \"'Of course,' said the man.\",\n",
              " \"'Where would you like me to unload them?'\",\n",
              " 'The third little pig looked around and saw a nice patch of ground under a tree.',\n",
              " \"'Over there,' he pointed.\",\n",
              " 'They all set to work and by nighttime the house of straw and the house of sticks were built but the house of bricks was only just beginning to rise above the ground.',\n",
              " 'The first and second little pigs laughed, they thought their brother was really silly having to work so hard when they had finished.']"
            ]
          },
          "metadata": {},
          "execution_count": 9
        }
      ]
    },
    {
      "cell_type": "code",
      "source": [
        "sentences[0]"
      ],
      "metadata": {
        "colab": {
          "base_uri": "https://localhost:8080/",
          "height": 70
        },
        "id": "5BwFVCo_hYtK",
        "outputId": "0c5e243c-948f-49f5-fbc6-48106d3d75ce"
      },
      "execution_count": 10,
      "outputs": [
        {
          "output_type": "execute_result",
          "data": {
            "text/plain": [
              "\"Mrs Pig was very tired: 'Oh dear,' she said to her three little pigs, 'I can’t do this work anymore, I’m afraid you must leave home and make your own way in the world.'\""
            ],
            "application/vnd.google.colaboratory.intrinsic+json": {
              "type": "string"
            }
          },
          "metadata": {},
          "execution_count": 10
        }
      ]
    },
    {
      "cell_type": "code",
      "source": [
        "words = word_tokenize(text)"
      ],
      "metadata": {
        "id": "NRdcR2o-heWL"
      },
      "execution_count": 11,
      "outputs": []
    },
    {
      "cell_type": "code",
      "source": [
        "len(words)"
      ],
      "metadata": {
        "colab": {
          "base_uri": "https://localhost:8080/"
        },
        "id": "ZE8hsHEYhjdf",
        "outputId": "d7d3c37d-c108-465e-8154-96cebc6bcb30"
      },
      "execution_count": 12,
      "outputs": [
        {
          "output_type": "execute_result",
          "data": {
            "text/plain": [
              "365"
            ]
          },
          "metadata": {},
          "execution_count": 12
        }
      ]
    },
    {
      "cell_type": "code",
      "source": [
        "words"
      ],
      "metadata": {
        "colab": {
          "base_uri": "https://localhost:8080/"
        },
        "id": "mJZvHOtIhlmH",
        "outputId": "6efa8d56-255e-46e7-9da5-067ec3f60df9"
      },
      "execution_count": 13,
      "outputs": [
        {
          "output_type": "execute_result",
          "data": {
            "text/plain": [
              "['Mrs',\n",
              " 'Pig',\n",
              " 'was',\n",
              " 'very',\n",
              " 'tired',\n",
              " ':',\n",
              " \"'Oh\",\n",
              " 'dear',\n",
              " ',',\n",
              " \"'\",\n",
              " 'she',\n",
              " 'said',\n",
              " 'to',\n",
              " 'her',\n",
              " 'three',\n",
              " 'little',\n",
              " 'pigs',\n",
              " ',',\n",
              " \"'\",\n",
              " 'I',\n",
              " 'can',\n",
              " '’',\n",
              " 't',\n",
              " 'do',\n",
              " 'this',\n",
              " 'work',\n",
              " 'anymore',\n",
              " ',',\n",
              " 'I',\n",
              " '’',\n",
              " 'm',\n",
              " 'afraid',\n",
              " 'you',\n",
              " 'must',\n",
              " 'leave',\n",
              " 'home',\n",
              " 'and',\n",
              " 'make',\n",
              " 'your',\n",
              " 'own',\n",
              " 'way',\n",
              " 'in',\n",
              " 'the',\n",
              " 'world',\n",
              " '.',\n",
              " \"'\",\n",
              " 'So',\n",
              " 'the',\n",
              " 'three',\n",
              " 'little',\n",
              " 'pigs',\n",
              " 'set',\n",
              " 'off',\n",
              " '.',\n",
              " 'The',\n",
              " 'first',\n",
              " 'little',\n",
              " 'pig',\n",
              " 'met',\n",
              " 'a',\n",
              " 'man',\n",
              " 'carrying',\n",
              " 'a',\n",
              " 'bundle',\n",
              " 'of',\n",
              " 'straw',\n",
              " '.',\n",
              " \"'Excuse\",\n",
              " 'me',\n",
              " ',',\n",
              " \"'\",\n",
              " 'said',\n",
              " 'the',\n",
              " 'first',\n",
              " 'little',\n",
              " 'pig',\n",
              " 'politely',\n",
              " '.',\n",
              " \"'Would\",\n",
              " 'you',\n",
              " 'please',\n",
              " 'sell',\n",
              " 'some',\n",
              " 'of',\n",
              " 'your',\n",
              " 'straw',\n",
              " 'so',\n",
              " 'I',\n",
              " 'can',\n",
              " 'make',\n",
              " 'a',\n",
              " 'house',\n",
              " '?',\n",
              " \"'\",\n",
              " 'The',\n",
              " 'man',\n",
              " 'readily',\n",
              " 'agreed',\n",
              " 'and',\n",
              " 'the',\n",
              " 'first',\n",
              " 'little',\n",
              " 'pig',\n",
              " 'went',\n",
              " 'off',\n",
              " 'to',\n",
              " 'find',\n",
              " 'a',\n",
              " 'good',\n",
              " 'place',\n",
              " 'to',\n",
              " 'build',\n",
              " 'his',\n",
              " 'house',\n",
              " '.',\n",
              " 'The',\n",
              " 'other',\n",
              " 'little',\n",
              " 'pigs',\n",
              " 'carried',\n",
              " 'on',\n",
              " 'along',\n",
              " 'the',\n",
              " 'road',\n",
              " 'and',\n",
              " ',',\n",
              " 'soon',\n",
              " ',',\n",
              " 'they',\n",
              " 'met',\n",
              " 'a',\n",
              " 'man',\n",
              " 'carrying',\n",
              " 'a',\n",
              " 'bundle',\n",
              " 'of',\n",
              " 'sticks',\n",
              " '.',\n",
              " \"'Excuse\",\n",
              " 'me',\n",
              " ',',\n",
              " \"'\",\n",
              " 'said',\n",
              " 'the',\n",
              " 'little',\n",
              " 'pig',\n",
              " 'politely',\n",
              " '.',\n",
              " \"'Would\",\n",
              " 'you',\n",
              " 'please',\n",
              " 'sell',\n",
              " 'me',\n",
              " 'some',\n",
              " 'sticks',\n",
              " 'so',\n",
              " 'I',\n",
              " 'can',\n",
              " 'build',\n",
              " 'a',\n",
              " 'house',\n",
              " '?',\n",
              " \"'\",\n",
              " 'The',\n",
              " 'man',\n",
              " 'readily',\n",
              " 'agreed',\n",
              " 'and',\n",
              " 'the',\n",
              " 'little',\n",
              " 'pig',\n",
              " 'said',\n",
              " 'goodbye',\n",
              " 'to',\n",
              " 'his',\n",
              " 'brother',\n",
              " '.',\n",
              " 'The',\n",
              " 'third',\n",
              " 'little',\n",
              " 'pig',\n",
              " 'didn',\n",
              " '’',\n",
              " 't',\n",
              " 'think',\n",
              " 'much',\n",
              " 'of',\n",
              " 'their',\n",
              " 'ideas',\n",
              " ':',\n",
              " \"'\",\n",
              " 'I',\n",
              " '’',\n",
              " 'm',\n",
              " 'going',\n",
              " 'to',\n",
              " 'build',\n",
              " 'myself',\n",
              " 'a',\n",
              " 'much',\n",
              " 'bigger',\n",
              " ',',\n",
              " 'better',\n",
              " ',',\n",
              " 'stronger',\n",
              " 'house',\n",
              " ',',\n",
              " \"'\",\n",
              " 'he',\n",
              " 'thought',\n",
              " ',',\n",
              " 'and',\n",
              " 'he',\n",
              " 'carried',\n",
              " 'off',\n",
              " 'down',\n",
              " 'the',\n",
              " 'road',\n",
              " 'until',\n",
              " 'he',\n",
              " 'met',\n",
              " 'a',\n",
              " 'man',\n",
              " 'with',\n",
              " 'a',\n",
              " 'cart',\n",
              " 'load',\n",
              " 'of',\n",
              " 'bricks',\n",
              " '.',\n",
              " \"'Excuse\",\n",
              " 'me',\n",
              " ',',\n",
              " \"'\",\n",
              " 'said',\n",
              " 'the',\n",
              " 'third',\n",
              " 'little',\n",
              " 'pig',\n",
              " ',',\n",
              " 'as',\n",
              " 'politely',\n",
              " 'as',\n",
              " 'his',\n",
              " 'mother',\n",
              " 'had',\n",
              " 'taught',\n",
              " 'him',\n",
              " '.',\n",
              " \"'Please\",\n",
              " 'can',\n",
              " 'you',\n",
              " 'sell',\n",
              " 'me',\n",
              " 'some',\n",
              " 'bricks',\n",
              " 'so',\n",
              " 'I',\n",
              " 'can',\n",
              " 'build',\n",
              " 'a',\n",
              " 'house',\n",
              " '?',\n",
              " \"'\",\n",
              " \"'Of\",\n",
              " 'course',\n",
              " ',',\n",
              " \"'\",\n",
              " 'said',\n",
              " 'the',\n",
              " 'man',\n",
              " '.',\n",
              " \"'Where\",\n",
              " 'would',\n",
              " 'you',\n",
              " 'like',\n",
              " 'me',\n",
              " 'to',\n",
              " 'unload',\n",
              " 'them',\n",
              " '?',\n",
              " \"'\",\n",
              " 'The',\n",
              " 'third',\n",
              " 'little',\n",
              " 'pig',\n",
              " 'looked',\n",
              " 'around',\n",
              " 'and',\n",
              " 'saw',\n",
              " 'a',\n",
              " 'nice',\n",
              " 'patch',\n",
              " 'of',\n",
              " 'ground',\n",
              " 'under',\n",
              " 'a',\n",
              " 'tree',\n",
              " '.',\n",
              " \"'Over\",\n",
              " 'there',\n",
              " ',',\n",
              " \"'\",\n",
              " 'he',\n",
              " 'pointed',\n",
              " '.',\n",
              " 'They',\n",
              " 'all',\n",
              " 'set',\n",
              " 'to',\n",
              " 'work',\n",
              " 'and',\n",
              " 'by',\n",
              " 'nighttime',\n",
              " 'the',\n",
              " 'house',\n",
              " 'of',\n",
              " 'straw',\n",
              " 'and',\n",
              " 'the',\n",
              " 'house',\n",
              " 'of',\n",
              " 'sticks',\n",
              " 'were',\n",
              " 'built',\n",
              " 'but',\n",
              " 'the',\n",
              " 'house',\n",
              " 'of',\n",
              " 'bricks',\n",
              " 'was',\n",
              " 'only',\n",
              " 'just',\n",
              " 'beginning',\n",
              " 'to',\n",
              " 'rise',\n",
              " 'above',\n",
              " 'the',\n",
              " 'ground',\n",
              " '.',\n",
              " 'The',\n",
              " 'first',\n",
              " 'and',\n",
              " 'second',\n",
              " 'little',\n",
              " 'pigs',\n",
              " 'laughed',\n",
              " ',',\n",
              " 'they',\n",
              " 'thought',\n",
              " 'their',\n",
              " 'brother',\n",
              " 'was',\n",
              " 'really',\n",
              " 'silly',\n",
              " 'having',\n",
              " 'to',\n",
              " 'work',\n",
              " 'so',\n",
              " 'hard',\n",
              " 'when',\n",
              " 'they',\n",
              " 'had',\n",
              " 'finished',\n",
              " '.']"
            ]
          },
          "metadata": {},
          "execution_count": 13
        }
      ]
    },
    {
      "cell_type": "code",
      "source": [
        "nltk.download(\"stopwords\")\n",
        "from nltk.corpus import stopwords"
      ],
      "metadata": {
        "colab": {
          "base_uri": "https://localhost:8080/"
        },
        "id": "_vHn4HMchtLe",
        "outputId": "c3b99fb0-df2b-4a3f-bc80-ecfa942f53a4"
      },
      "execution_count": 14,
      "outputs": [
        {
          "output_type": "stream",
          "name": "stderr",
          "text": [
            "[nltk_data] Downloading package stopwords to /root/nltk_data...\n",
            "[nltk_data]   Package stopwords is already up-to-date!\n"
          ]
        }
      ]
    },
    {
      "cell_type": "code",
      "source": [
        "stop_words = set(stopwords.words(\"english\"))\n",
        "stop_words"
      ],
      "metadata": {
        "colab": {
          "base_uri": "https://localhost:8080/"
        },
        "id": "1vzxSKYXhyv2",
        "outputId": "5383674c-ddba-486a-e5bf-10f01c234092"
      },
      "execution_count": 15,
      "outputs": [
        {
          "output_type": "execute_result",
          "data": {
            "text/plain": [
              "{'a',\n",
              " 'about',\n",
              " 'above',\n",
              " 'after',\n",
              " 'again',\n",
              " 'against',\n",
              " 'ain',\n",
              " 'all',\n",
              " 'am',\n",
              " 'an',\n",
              " 'and',\n",
              " 'any',\n",
              " 'are',\n",
              " 'aren',\n",
              " \"aren't\",\n",
              " 'as',\n",
              " 'at',\n",
              " 'be',\n",
              " 'because',\n",
              " 'been',\n",
              " 'before',\n",
              " 'being',\n",
              " 'below',\n",
              " 'between',\n",
              " 'both',\n",
              " 'but',\n",
              " 'by',\n",
              " 'can',\n",
              " 'couldn',\n",
              " \"couldn't\",\n",
              " 'd',\n",
              " 'did',\n",
              " 'didn',\n",
              " \"didn't\",\n",
              " 'do',\n",
              " 'does',\n",
              " 'doesn',\n",
              " \"doesn't\",\n",
              " 'doing',\n",
              " 'don',\n",
              " \"don't\",\n",
              " 'down',\n",
              " 'during',\n",
              " 'each',\n",
              " 'few',\n",
              " 'for',\n",
              " 'from',\n",
              " 'further',\n",
              " 'had',\n",
              " 'hadn',\n",
              " \"hadn't\",\n",
              " 'has',\n",
              " 'hasn',\n",
              " \"hasn't\",\n",
              " 'have',\n",
              " 'haven',\n",
              " \"haven't\",\n",
              " 'having',\n",
              " 'he',\n",
              " 'her',\n",
              " 'here',\n",
              " 'hers',\n",
              " 'herself',\n",
              " 'him',\n",
              " 'himself',\n",
              " 'his',\n",
              " 'how',\n",
              " 'i',\n",
              " 'if',\n",
              " 'in',\n",
              " 'into',\n",
              " 'is',\n",
              " 'isn',\n",
              " \"isn't\",\n",
              " 'it',\n",
              " \"it's\",\n",
              " 'its',\n",
              " 'itself',\n",
              " 'just',\n",
              " 'll',\n",
              " 'm',\n",
              " 'ma',\n",
              " 'me',\n",
              " 'mightn',\n",
              " \"mightn't\",\n",
              " 'more',\n",
              " 'most',\n",
              " 'mustn',\n",
              " \"mustn't\",\n",
              " 'my',\n",
              " 'myself',\n",
              " 'needn',\n",
              " \"needn't\",\n",
              " 'no',\n",
              " 'nor',\n",
              " 'not',\n",
              " 'now',\n",
              " 'o',\n",
              " 'of',\n",
              " 'off',\n",
              " 'on',\n",
              " 'once',\n",
              " 'only',\n",
              " 'or',\n",
              " 'other',\n",
              " 'our',\n",
              " 'ours',\n",
              " 'ourselves',\n",
              " 'out',\n",
              " 'over',\n",
              " 'own',\n",
              " 're',\n",
              " 's',\n",
              " 'same',\n",
              " 'shan',\n",
              " \"shan't\",\n",
              " 'she',\n",
              " \"she's\",\n",
              " 'should',\n",
              " \"should've\",\n",
              " 'shouldn',\n",
              " \"shouldn't\",\n",
              " 'so',\n",
              " 'some',\n",
              " 'such',\n",
              " 't',\n",
              " 'than',\n",
              " 'that',\n",
              " \"that'll\",\n",
              " 'the',\n",
              " 'their',\n",
              " 'theirs',\n",
              " 'them',\n",
              " 'themselves',\n",
              " 'then',\n",
              " 'there',\n",
              " 'these',\n",
              " 'they',\n",
              " 'this',\n",
              " 'those',\n",
              " 'through',\n",
              " 'to',\n",
              " 'too',\n",
              " 'under',\n",
              " 'until',\n",
              " 'up',\n",
              " 've',\n",
              " 'very',\n",
              " 'was',\n",
              " 'wasn',\n",
              " \"wasn't\",\n",
              " 'we',\n",
              " 'were',\n",
              " 'weren',\n",
              " \"weren't\",\n",
              " 'what',\n",
              " 'when',\n",
              " 'where',\n",
              " 'which',\n",
              " 'while',\n",
              " 'who',\n",
              " 'whom',\n",
              " 'why',\n",
              " 'will',\n",
              " 'with',\n",
              " 'won',\n",
              " \"won't\",\n",
              " 'wouldn',\n",
              " \"wouldn't\",\n",
              " 'y',\n",
              " 'you',\n",
              " \"you'd\",\n",
              " \"you'll\",\n",
              " \"you're\",\n",
              " \"you've\",\n",
              " 'your',\n",
              " 'yours',\n",
              " 'yourself',\n",
              " 'yourselves'}"
            ]
          },
          "metadata": {},
          "execution_count": 15
        }
      ]
    },
    {
      "cell_type": "code",
      "source": [
        "sentence = sentences[0]\n",
        "sentence"
      ],
      "metadata": {
        "colab": {
          "base_uri": "https://localhost:8080/",
          "height": 70
        },
        "id": "wrAeah0Sh3Cv",
        "outputId": "fd35c82b-5612-4ce8-9fa9-f1f1fa0019d2"
      },
      "execution_count": 16,
      "outputs": [
        {
          "output_type": "execute_result",
          "data": {
            "text/plain": [
              "\"Mrs Pig was very tired: 'Oh dear,' she said to her three little pigs, 'I can’t do this work anymore, I’m afraid you must leave home and make your own way in the world.'\""
            ],
            "application/vnd.google.colaboratory.intrinsic+json": {
              "type": "string"
            }
          },
          "metadata": {},
          "execution_count": 16
        }
      ]
    },
    {
      "cell_type": "code",
      "source": [
        "words = word_tokenize(sentence)\n",
        "words"
      ],
      "metadata": {
        "colab": {
          "base_uri": "https://localhost:8080/"
        },
        "id": "nH9bpSixh8V3",
        "outputId": "8815333a-b185-452f-a394-0e5685ff767b"
      },
      "execution_count": 17,
      "outputs": [
        {
          "output_type": "execute_result",
          "data": {
            "text/plain": [
              "['Mrs',\n",
              " 'Pig',\n",
              " 'was',\n",
              " 'very',\n",
              " 'tired',\n",
              " ':',\n",
              " \"'Oh\",\n",
              " 'dear',\n",
              " ',',\n",
              " \"'\",\n",
              " 'she',\n",
              " 'said',\n",
              " 'to',\n",
              " 'her',\n",
              " 'three',\n",
              " 'little',\n",
              " 'pigs',\n",
              " ',',\n",
              " \"'\",\n",
              " 'I',\n",
              " 'can',\n",
              " '’',\n",
              " 't',\n",
              " 'do',\n",
              " 'this',\n",
              " 'work',\n",
              " 'anymore',\n",
              " ',',\n",
              " 'I',\n",
              " '’',\n",
              " 'm',\n",
              " 'afraid',\n",
              " 'you',\n",
              " 'must',\n",
              " 'leave',\n",
              " 'home',\n",
              " 'and',\n",
              " 'make',\n",
              " 'your',\n",
              " 'own',\n",
              " 'way',\n",
              " 'in',\n",
              " 'the',\n",
              " 'world',\n",
              " '.',\n",
              " \"'\"]"
            ]
          },
          "metadata": {},
          "execution_count": 17
        }
      ]
    },
    {
      "cell_type": "code",
      "source": [
        "import string\n",
        "\n",
        "words = [word for word in words if word not in string.punctuation]\n",
        "words"
      ],
      "metadata": {
        "colab": {
          "base_uri": "https://localhost:8080/"
        },
        "id": "8J45OeLhiB5F",
        "outputId": "57a35820-ba67-4b49-8906-1ba1c4b6925f"
      },
      "execution_count": 18,
      "outputs": [
        {
          "output_type": "execute_result",
          "data": {
            "text/plain": [
              "['Mrs',\n",
              " 'Pig',\n",
              " 'was',\n",
              " 'very',\n",
              " 'tired',\n",
              " \"'Oh\",\n",
              " 'dear',\n",
              " 'she',\n",
              " 'said',\n",
              " 'to',\n",
              " 'her',\n",
              " 'three',\n",
              " 'little',\n",
              " 'pigs',\n",
              " 'I',\n",
              " 'can',\n",
              " '’',\n",
              " 't',\n",
              " 'do',\n",
              " 'this',\n",
              " 'work',\n",
              " 'anymore',\n",
              " 'I',\n",
              " '’',\n",
              " 'm',\n",
              " 'afraid',\n",
              " 'you',\n",
              " 'must',\n",
              " 'leave',\n",
              " 'home',\n",
              " 'and',\n",
              " 'make',\n",
              " 'your',\n",
              " 'own',\n",
              " 'way',\n",
              " 'in',\n",
              " 'the',\n",
              " 'world']"
            ]
          },
          "metadata": {},
          "execution_count": 18
        }
      ]
    },
    {
      "cell_type": "code",
      "source": [
        "string.punctuation"
      ],
      "metadata": {
        "colab": {
          "base_uri": "https://localhost:8080/",
          "height": 35
        },
        "id": "8qUwVPHHiFS-",
        "outputId": "b01e976e-2849-4afe-8473-55b2bf0bf6dc"
      },
      "execution_count": 19,
      "outputs": [
        {
          "output_type": "execute_result",
          "data": {
            "text/plain": [
              "'!\"#$%&\\'()*+,-./:;<=>?@[\\\\]^_`{|}~'"
            ],
            "application/vnd.google.colaboratory.intrinsic+json": {
              "type": "string"
            }
          },
          "metadata": {},
          "execution_count": 19
        }
      ]
    },
    {
      "cell_type": "code",
      "source": [
        "filtered_words = [word for word in words if word.lower() not in stop_words]\n",
        "filtered_words"
      ],
      "metadata": {
        "colab": {
          "base_uri": "https://localhost:8080/"
        },
        "id": "Cm5E5YNJiIVs",
        "outputId": "83afff7a-c1d2-4a5f-c933-374c84d3b81c"
      },
      "execution_count": 20,
      "outputs": [
        {
          "output_type": "execute_result",
          "data": {
            "text/plain": [
              "['Mrs',\n",
              " 'Pig',\n",
              " 'tired',\n",
              " \"'Oh\",\n",
              " 'dear',\n",
              " 'said',\n",
              " 'three',\n",
              " 'little',\n",
              " 'pigs',\n",
              " '’',\n",
              " 'work',\n",
              " 'anymore',\n",
              " '’',\n",
              " 'afraid',\n",
              " 'must',\n",
              " 'leave',\n",
              " 'home',\n",
              " 'make',\n",
              " 'way',\n",
              " 'world']"
            ]
          },
          "metadata": {},
          "execution_count": 20
        }
      ]
    },
    {
      "cell_type": "markdown",
      "source": [
        "# Завдання 2\n",
        "\n",
        " * Зробіть стемінг слів\n",
        " * Зробіть лематизацію слів\n",
        " * Створіть `pandas.DataFrame` зі словами, що мають різний результат при стемінгу та лематизації. Має бути 3 стовпчика:\n",
        "  * оригінальне сово\n",
        "  * результат стемінгу\n",
        "  * результат лематизації\n"
      ],
      "metadata": {
        "id": "JmES6y8NDwgV"
      }
    },
    {
      "cell_type": "code",
      "source": [
        "nltk.download('punkt')\n",
        "nltk.download('wordnet')\n",
        "nltk.download('omw-1.4')"
      ],
      "metadata": {
        "colab": {
          "base_uri": "https://localhost:8080/"
        },
        "id": "VkARhd1_Cm3P",
        "outputId": "1059c87e-1f6a-4812-fe34-a38464b4ee71"
      },
      "execution_count": 45,
      "outputs": [
        {
          "output_type": "stream",
          "name": "stderr",
          "text": [
            "[nltk_data] Downloading package punkt to /root/nltk_data...\n",
            "[nltk_data]   Package punkt is already up-to-date!\n",
            "[nltk_data] Downloading package wordnet to /root/nltk_data...\n",
            "[nltk_data]   Package wordnet is already up-to-date!\n",
            "[nltk_data] Downloading package omw-1.4 to /root/nltk_data...\n"
          ]
        },
        {
          "output_type": "execute_result",
          "data": {
            "text/plain": [
              "True"
            ]
          },
          "metadata": {},
          "execution_count": 45
        }
      ]
    },
    {
      "cell_type": "code",
      "source": [
        "words = word_tokenize(text)"
      ],
      "metadata": {
        "id": "QQ6au-pkCqL2"
      },
      "execution_count": 46,
      "outputs": []
    },
    {
      "cell_type": "code",
      "source": [
        "stemmer = PorterStemmer()\n",
        "lemmatizer = WordNetLemmatizer()"
      ],
      "metadata": {
        "id": "_o2TjfEtCso6"
      },
      "execution_count": 47,
      "outputs": []
    },
    {
      "cell_type": "code",
      "source": [
        "results = []\n",
        "for word in words:\n",
        "    stem = stemmer.stem(word)\n",
        "    lemma = lemmatizer.lemmatize(word)\n",
        "    if stem != lemma:\n",
        "        results.append((word, stem, lemma))"
      ],
      "metadata": {
        "id": "NoM2RS6zCvBL"
      },
      "execution_count": 48,
      "outputs": []
    },
    {
      "cell_type": "code",
      "source": [
        "df = pd.DataFrame(results, columns=['Оригінальне слово', 'Результат стемінгу', 'Результат лематизації'])"
      ],
      "metadata": {
        "id": "cR-Gvx26C3i5"
      },
      "execution_count": 52,
      "outputs": []
    },
    {
      "cell_type": "code",
      "source": [
        "print(df)"
      ],
      "metadata": {
        "colab": {
          "base_uri": "https://localhost:8080/"
        },
        "id": "ceB78IK5DImj",
        "outputId": "4339b704-e2e8-4f46-c91a-e345f8e015b8"
      },
      "execution_count": 53,
      "outputs": [
        {
          "output_type": "stream",
          "name": "stdout",
          "text": [
            "   Оригінальне слово Результат стемінгу Результат лематизації\n",
            "0                Mrs                 mr                   Mrs\n",
            "1                Pig                pig                   Pig\n",
            "2               very               veri                  very\n",
            "3              tired               tire                 tired\n",
            "4                'Oh                'oh                   'Oh\n",
            "5             little              littl                little\n",
            "6                  I                  i                     I\n",
            "7               this                thi                  this\n",
            "8            anymore             anymor               anymore\n",
            "9                  I                  i                     I\n",
            "10             leave               leav                 leave\n"
          ]
        }
      ]
    },
    {
      "cell_type": "markdown",
      "source": [
        "# Завдання 3\n",
        "Виділіть фрази за такими шаблонами:\n",
        "  * прикметник + іменник\n",
        "  * (хоча б 1 прикметник) + іменник\n",
        "  * (прислівник + дієслово) АБО (дієслово + прислівник)"
      ],
      "metadata": {
        "id": "D56Rwjf4EXC_"
      }
    },
    {
      "cell_type": "code",
      "source": [
        "nltk.download('averaged_perceptron_tagger')\n",
        "nltk.download('punkt')"
      ],
      "metadata": {
        "id": "5_s8CM3vDu5a",
        "outputId": "a024fecc-0529-4a27-99ff-02818c382535",
        "colab": {
          "base_uri": "https://localhost:8080/"
        }
      },
      "execution_count": 55,
      "outputs": [
        {
          "output_type": "stream",
          "name": "stderr",
          "text": [
            "[nltk_data] Downloading package averaged_perceptron_tagger to\n",
            "[nltk_data]     /root/nltk_data...\n",
            "[nltk_data]   Package averaged_perceptron_tagger is already up-to-\n",
            "[nltk_data]       date!\n",
            "[nltk_data] Downloading package punkt to /root/nltk_data...\n",
            "[nltk_data]   Package punkt is already up-to-date!\n"
          ]
        },
        {
          "output_type": "execute_result",
          "data": {
            "text/plain": [
              "True"
            ]
          },
          "metadata": {},
          "execution_count": 55
        }
      ]
    },
    {
      "cell_type": "code",
      "source": [
        "words = word_tokenize(text)"
      ],
      "metadata": {
        "id": "AXEtZbUkD8zy"
      },
      "execution_count": 56,
      "outputs": []
    },
    {
      "cell_type": "code",
      "source": [
        "tagged_words = pos_tag(words)"
      ],
      "metadata": {
        "id": "15D2bQmoD--_"
      },
      "execution_count": 57,
      "outputs": []
    },
    {
      "cell_type": "code",
      "source": [
        "grammar_adj_noun = \"ADJ_NOUN: {<JJ><NN|NNS>}\""
      ],
      "metadata": {
        "id": "y6QPClYiEBJD"
      },
      "execution_count": 58,
      "outputs": []
    },
    {
      "cell_type": "code",
      "source": [
        "grammar_adj_any_noun = \"ADJ_ANY_NOUN: {<JJ.*>+<NN|NNS>}\""
      ],
      "metadata": {
        "id": "Kw2zJ_JSEDEJ"
      },
      "execution_count": 59,
      "outputs": []
    },
    {
      "cell_type": "code",
      "source": [
        "grammar_adv_verb = \"ADV_VERB: {<RB><VB.*>|<VB.*><RB>}\""
      ],
      "metadata": {
        "id": "fXC7vNk7EEHA"
      },
      "execution_count": 60,
      "outputs": []
    },
    {
      "cell_type": "code",
      "source": [
        "chunk_parser_adj_noun = RegexpParser(grammar_adj_noun)\n",
        "chunk_parser_adj_any_noun = RegexpParser(grammar_adj_any_noun)\n",
        "chunk_parser_adv_verb = RegexpParser(grammar_adv_verb)"
      ],
      "metadata": {
        "id": "M3aE7AliEHPG"
      },
      "execution_count": 61,
      "outputs": []
    },
    {
      "cell_type": "code",
      "source": [
        "adj_noun_phrases = chunk_parser_adj_noun.parse(tagged_words)\n",
        "adj_any_noun_phrases = chunk_parser_adj_any_noun.parse(tagged_words)\n",
        "adv_verb_phrases = chunk_parser_adv_verb.parse(tagged_words)"
      ],
      "metadata": {
        "id": "2yD9EBBqEIeW"
      },
      "execution_count": 62,
      "outputs": []
    },
    {
      "cell_type": "code",
      "source": [
        "print(\"Прикметник + Іменник:\")\n",
        "for subtree in adj_noun_phrases.subtrees(filter=lambda t: t.label() == 'ADJ_NOUN'):\n",
        "    print(\" \".join(word for word, tag in subtree.leaves()))\n",
        "\n",
        "print(\"\\n(Хоча б 1 прикметник) + Іменник:\")\n",
        "for subtree in adj_any_noun_phrases.subtrees(filter=lambda t: t.label() == 'ADJ_ANY_NOUN'):\n",
        "    print(\" \".join(word for word, tag in subtree.leaves()))\n",
        "\n",
        "print(\"\\n(Прислівник + Дієслово) АБО (Дієслово + Прислівник):\")\n",
        "for subtree in adv_verb_phrases.subtrees(filter=lambda t: t.label() == 'ADV_VERB'):\n",
        "    print(\" \".join(word for word, tag in subtree.leaves()))"
      ],
      "metadata": {
        "id": "j969UJ-fEMNO",
        "outputId": "4e694bef-46c6-412f-afdb-490fe2ee0763",
        "colab": {
          "base_uri": "https://localhost:8080/"
        }
      },
      "execution_count": 63,
      "outputs": [
        {
          "output_type": "stream",
          "name": "stdout",
          "text": [
            "Прикметник + Іменник:\n",
            "little pigs\n",
            "own way\n",
            "little pigs\n",
            "little pig\n",
            "little pig\n",
            "little pig\n",
            "good place\n",
            "little pigs\n",
            "little pig\n",
            "little pig\n",
            "little pig\n",
            "cart load\n",
            "little pig\n",
            "'Of course\n",
            "little pig\n",
            "nice patch\n",
            "little pigs\n",
            "\n",
            "(Хоча б 1 прикметник) + Іменник:\n",
            "little pigs\n",
            "own way\n",
            "little pigs\n",
            "first little pig\n",
            "first little pig\n",
            "first little pig\n",
            "good place\n",
            "other little pigs\n",
            "little pig\n",
            "little pig\n",
            "third little pig\n",
            "stronger house\n",
            "cart load\n",
            "third little pig\n",
            "'Of course\n",
            "third little pig\n",
            "nice patch\n",
            "second little pigs\n",
            "\n",
            "(Прислівник + Дієслово) АБО (Дієслово + Прислівник):\n",
            "was very\n",
            "’ t\n",
            "readily agreed\n",
            "readily agreed\n",
            "think much\n",
            "’ m\n",
            "was only\n",
            "just beginning\n",
            "was really\n",
            "silly having\n",
            "work so\n"
          ]
        }
      ]
    }
  ]
}