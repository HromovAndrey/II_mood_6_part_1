{
  "nbformat": 4,
  "nbformat_minor": 0,
  "metadata": {
    "colab": {
      "provenance": [],
      "include_colab_link": true
    },
    "kernelspec": {
      "name": "python3",
      "display_name": "Python 3"
    },
    "language_info": {
      "name": "python"
    }
  },
  "cells": [
    {
      "cell_type": "markdown",
      "metadata": {
        "id": "view-in-github",
        "colab_type": "text"
      },
      "source": [
        "<a href=\"https://colab.research.google.com/github/HromovAndrey/II_mood_6_part_1/blob/main/%D0%9F%D1%80%D0%B0%D0%BA%D1%82%D0%B8%D0%BA%D0%B0_NLTK.ipynb\" target=\"_parent\"><img src=\"https://colab.research.google.com/assets/colab-badge.svg\" alt=\"Open In Colab\"/></a>"
      ]
    },
    {
      "cell_type": "markdown",
      "source": [
        "# Завдання 1\n",
        "Проведіть токенизацію тексту:\n",
        " * Розділіть текст на речення\n",
        " * Кожне речення розділіть на слова. Результатом має бути `list[list]` де скажімо `data[5][10]` означає 10-те слово з 5-го речення(індексація з 0)\n",
        " * Видаліть пунктуацію та стоп-слова\n",
        " * Створіть список усіх слів з тексту 'words`"
      ],
      "metadata": {
        "id": "nKUjkCZVCs08"
      }
    },
    {
      "cell_type": "code",
      "execution_count": 4,
      "metadata": {
        "id": "uq_Bleym56q9"
      },
      "outputs": [],
      "source": [
        "text = \"\"\"Mrs Pig was very tired: 'Oh dear,' she said to her three little pigs, 'I can’t do this work anymore, I’m afraid you must leave home and make your own way in the world.' So the three little pigs set off.\n",
        "\n",
        "The first little pig met a man carrying a bundle of straw.\n",
        "\n",
        "'Excuse me,' said the first little pig politely. 'Would you please sell some of your straw so I can make a house?'\n",
        "\n",
        "The man readily agreed and the first little pig went off to find a good place to build his house.\n",
        "\n",
        "The other little pigs carried on along the road and, soon, they met a man carrying a bundle of sticks.\n",
        "\n",
        "'Excuse me,' said the little pig politely. 'Would you please sell me some sticks so I can build a house?'\n",
        "\n",
        "The man readily agreed and the little pig said goodbye to his brother.\n",
        "\n",
        "The third little pig didn’t think much of their ideas:\n",
        "\n",
        "'I’m going to build myself a much bigger, better, stronger house,' he thought, and he carried off down the road until he met a man with a cart load of bricks.\n",
        "\n",
        "'Excuse me,' said the third little pig, as politely as his mother had taught him. 'Please can you sell me some bricks so I can build a house?'\n",
        "\n",
        "'Of course,' said the man. 'Where would you like me to unload them?'\n",
        "\n",
        "The third little pig looked around and saw a nice patch of ground under a tree.\n",
        "\n",
        "'Over there,' he pointed.\n",
        "\n",
        "They all set to work and by nighttime the house of straw and the house of sticks were built but the house of bricks was only just beginning to rise above the ground. The first and second little pigs laughed, they thought their brother was really silly having to work so hard when they had finished.\"\"\""
      ]
    },
    {
      "cell_type": "code",
      "source": [
        "import nltk\n",
        "from nltk.tokenize import sent_tokenize, word_tokenize\n",
        "from nltk.corpus import stopwords\n",
        "import string"
      ],
      "metadata": {
        "id": "q3A5mqf0f6DZ"
      },
      "execution_count": 5,
      "outputs": []
    },
    {
      "cell_type": "code",
      "source": [
        "nltk.download('stopwords')\n",
        "nltk.download('punkt')"
      ],
      "metadata": {
        "colab": {
          "base_uri": "https://localhost:8080/"
        },
        "id": "8qr5v20FgE5d",
        "outputId": "8f973451-ee5f-46e0-9669-e4a234d48d67"
      },
      "execution_count": 6,
      "outputs": [
        {
          "output_type": "stream",
          "name": "stderr",
          "text": [
            "[nltk_data] Downloading package stopwords to /root/nltk_data...\n",
            "[nltk_data]   Unzipping corpora/stopwords.zip.\n",
            "[nltk_data] Downloading package punkt to /root/nltk_data...\n",
            "[nltk_data]   Package punkt is already up-to-date!\n"
          ]
        },
        {
          "output_type": "execute_result",
          "data": {
            "text/plain": [
              "True"
            ]
          },
          "metadata": {},
          "execution_count": 6
        }
      ]
    },
    {
      "cell_type": "code",
      "source": [
        "sentences = sent_tokenize(text)"
      ],
      "metadata": {
        "id": "Sm0un0xwgI-Z"
      },
      "execution_count": 7,
      "outputs": []
    },
    {
      "cell_type": "code",
      "source": [
        "type(sentences), len(sentences)"
      ],
      "metadata": {
        "id": "rPzCjGJqhQQL",
        "outputId": "c0da4f5b-c505-4aa5-80fd-cb7c986edc06",
        "colab": {
          "base_uri": "https://localhost:8080/"
        }
      },
      "execution_count": 8,
      "outputs": [
        {
          "output_type": "execute_result",
          "data": {
            "text/plain": [
              "(list, 19)"
            ]
          },
          "metadata": {},
          "execution_count": 8
        }
      ]
    },
    {
      "cell_type": "code",
      "source": [
        "sentences"
      ],
      "metadata": {
        "id": "MrubIsIXhVVE",
        "outputId": "5656379e-69b4-4e97-9b79-fc93faabebd7",
        "colab": {
          "base_uri": "https://localhost:8080/"
        }
      },
      "execution_count": 9,
      "outputs": [
        {
          "output_type": "execute_result",
          "data": {
            "text/plain": [
              "[\"Mrs Pig was very tired: 'Oh dear,' she said to her three little pigs, 'I can’t do this work anymore, I’m afraid you must leave home and make your own way in the world.'\",\n",
              " 'So the three little pigs set off.',\n",
              " 'The first little pig met a man carrying a bundle of straw.',\n",
              " \"'Excuse me,' said the first little pig politely.\",\n",
              " \"'Would you please sell some of your straw so I can make a house?'\",\n",
              " 'The man readily agreed and the first little pig went off to find a good place to build his house.',\n",
              " 'The other little pigs carried on along the road and, soon, they met a man carrying a bundle of sticks.',\n",
              " \"'Excuse me,' said the little pig politely.\",\n",
              " \"'Would you please sell me some sticks so I can build a house?'\",\n",
              " 'The man readily agreed and the little pig said goodbye to his brother.',\n",
              " \"The third little pig didn’t think much of their ideas:\\n\\n'I’m going to build myself a much bigger, better, stronger house,' he thought, and he carried off down the road until he met a man with a cart load of bricks.\",\n",
              " \"'Excuse me,' said the third little pig, as politely as his mother had taught him.\",\n",
              " \"'Please can you sell me some bricks so I can build a house?'\",\n",
              " \"'Of course,' said the man.\",\n",
              " \"'Where would you like me to unload them?'\",\n",
              " 'The third little pig looked around and saw a nice patch of ground under a tree.',\n",
              " \"'Over there,' he pointed.\",\n",
              " 'They all set to work and by nighttime the house of straw and the house of sticks were built but the house of bricks was only just beginning to rise above the ground.',\n",
              " 'The first and second little pigs laughed, they thought their brother was really silly having to work so hard when they had finished.']"
            ]
          },
          "metadata": {},
          "execution_count": 9
        }
      ]
    },
    {
      "cell_type": "code",
      "source": [
        "sentences[0]"
      ],
      "metadata": {
        "id": "5BwFVCo_hYtK",
        "outputId": "0c5e243c-948f-49f5-fbc6-48106d3d75ce",
        "colab": {
          "base_uri": "https://localhost:8080/",
          "height": 55
        }
      },
      "execution_count": 10,
      "outputs": [
        {
          "output_type": "execute_result",
          "data": {
            "text/plain": [
              "\"Mrs Pig was very tired: 'Oh dear,' she said to her three little pigs, 'I can’t do this work anymore, I’m afraid you must leave home and make your own way in the world.'\""
            ],
            "application/vnd.google.colaboratory.intrinsic+json": {
              "type": "string"
            }
          },
          "metadata": {},
          "execution_count": 10
        }
      ]
    },
    {
      "cell_type": "code",
      "source": [
        "words = word_tokenize(text)"
      ],
      "metadata": {
        "id": "NRdcR2o-heWL"
      },
      "execution_count": 11,
      "outputs": []
    },
    {
      "cell_type": "code",
      "source": [
        "len(words)"
      ],
      "metadata": {
        "id": "ZE8hsHEYhjdf",
        "outputId": "d7d3c37d-c108-465e-8154-96cebc6bcb30",
        "colab": {
          "base_uri": "https://localhost:8080/"
        }
      },
      "execution_count": 12,
      "outputs": [
        {
          "output_type": "execute_result",
          "data": {
            "text/plain": [
              "365"
            ]
          },
          "metadata": {},
          "execution_count": 12
        }
      ]
    },
    {
      "cell_type": "code",
      "source": [
        "words"
      ],
      "metadata": {
        "id": "mJZvHOtIhlmH",
        "outputId": "6efa8d56-255e-46e7-9da5-067ec3f60df9",
        "colab": {
          "base_uri": "https://localhost:8080/"
        }
      },
      "execution_count": 13,
      "outputs": [
        {
          "output_type": "execute_result",
          "data": {
            "text/plain": [
              "['Mrs',\n",
              " 'Pig',\n",
              " 'was',\n",
              " 'very',\n",
              " 'tired',\n",
              " ':',\n",
              " \"'Oh\",\n",
              " 'dear',\n",
              " ',',\n",
              " \"'\",\n",
              " 'she',\n",
              " 'said',\n",
              " 'to',\n",
              " 'her',\n",
              " 'three',\n",
              " 'little',\n",
              " 'pigs',\n",
              " ',',\n",
              " \"'\",\n",
              " 'I',\n",
              " 'can',\n",
              " '’',\n",
              " 't',\n",
              " 'do',\n",
              " 'this',\n",
              " 'work',\n",
              " 'anymore',\n",
              " ',',\n",
              " 'I',\n",
              " '’',\n",
              " 'm',\n",
              " 'afraid',\n",
              " 'you',\n",
              " 'must',\n",
              " 'leave',\n",
              " 'home',\n",
              " 'and',\n",
              " 'make',\n",
              " 'your',\n",
              " 'own',\n",
              " 'way',\n",
              " 'in',\n",
              " 'the',\n",
              " 'world',\n",
              " '.',\n",
              " \"'\",\n",
              " 'So',\n",
              " 'the',\n",
              " 'three',\n",
              " 'little',\n",
              " 'pigs',\n",
              " 'set',\n",
              " 'off',\n",
              " '.',\n",
              " 'The',\n",
              " 'first',\n",
              " 'little',\n",
              " 'pig',\n",
              " 'met',\n",
              " 'a',\n",
              " 'man',\n",
              " 'carrying',\n",
              " 'a',\n",
              " 'bundle',\n",
              " 'of',\n",
              " 'straw',\n",
              " '.',\n",
              " \"'Excuse\",\n",
              " 'me',\n",
              " ',',\n",
              " \"'\",\n",
              " 'said',\n",
              " 'the',\n",
              " 'first',\n",
              " 'little',\n",
              " 'pig',\n",
              " 'politely',\n",
              " '.',\n",
              " \"'Would\",\n",
              " 'you',\n",
              " 'please',\n",
              " 'sell',\n",
              " 'some',\n",
              " 'of',\n",
              " 'your',\n",
              " 'straw',\n",
              " 'so',\n",
              " 'I',\n",
              " 'can',\n",
              " 'make',\n",
              " 'a',\n",
              " 'house',\n",
              " '?',\n",
              " \"'\",\n",
              " 'The',\n",
              " 'man',\n",
              " 'readily',\n",
              " 'agreed',\n",
              " 'and',\n",
              " 'the',\n",
              " 'first',\n",
              " 'little',\n",
              " 'pig',\n",
              " 'went',\n",
              " 'off',\n",
              " 'to',\n",
              " 'find',\n",
              " 'a',\n",
              " 'good',\n",
              " 'place',\n",
              " 'to',\n",
              " 'build',\n",
              " 'his',\n",
              " 'house',\n",
              " '.',\n",
              " 'The',\n",
              " 'other',\n",
              " 'little',\n",
              " 'pigs',\n",
              " 'carried',\n",
              " 'on',\n",
              " 'along',\n",
              " 'the',\n",
              " 'road',\n",
              " 'and',\n",
              " ',',\n",
              " 'soon',\n",
              " ',',\n",
              " 'they',\n",
              " 'met',\n",
              " 'a',\n",
              " 'man',\n",
              " 'carrying',\n",
              " 'a',\n",
              " 'bundle',\n",
              " 'of',\n",
              " 'sticks',\n",
              " '.',\n",
              " \"'Excuse\",\n",
              " 'me',\n",
              " ',',\n",
              " \"'\",\n",
              " 'said',\n",
              " 'the',\n",
              " 'little',\n",
              " 'pig',\n",
              " 'politely',\n",
              " '.',\n",
              " \"'Would\",\n",
              " 'you',\n",
              " 'please',\n",
              " 'sell',\n",
              " 'me',\n",
              " 'some',\n",
              " 'sticks',\n",
              " 'so',\n",
              " 'I',\n",
              " 'can',\n",
              " 'build',\n",
              " 'a',\n",
              " 'house',\n",
              " '?',\n",
              " \"'\",\n",
              " 'The',\n",
              " 'man',\n",
              " 'readily',\n",
              " 'agreed',\n",
              " 'and',\n",
              " 'the',\n",
              " 'little',\n",
              " 'pig',\n",
              " 'said',\n",
              " 'goodbye',\n",
              " 'to',\n",
              " 'his',\n",
              " 'brother',\n",
              " '.',\n",
              " 'The',\n",
              " 'third',\n",
              " 'little',\n",
              " 'pig',\n",
              " 'didn',\n",
              " '’',\n",
              " 't',\n",
              " 'think',\n",
              " 'much',\n",
              " 'of',\n",
              " 'their',\n",
              " 'ideas',\n",
              " ':',\n",
              " \"'\",\n",
              " 'I',\n",
              " '’',\n",
              " 'm',\n",
              " 'going',\n",
              " 'to',\n",
              " 'build',\n",
              " 'myself',\n",
              " 'a',\n",
              " 'much',\n",
              " 'bigger',\n",
              " ',',\n",
              " 'better',\n",
              " ',',\n",
              " 'stronger',\n",
              " 'house',\n",
              " ',',\n",
              " \"'\",\n",
              " 'he',\n",
              " 'thought',\n",
              " ',',\n",
              " 'and',\n",
              " 'he',\n",
              " 'carried',\n",
              " 'off',\n",
              " 'down',\n",
              " 'the',\n",
              " 'road',\n",
              " 'until',\n",
              " 'he',\n",
              " 'met',\n",
              " 'a',\n",
              " 'man',\n",
              " 'with',\n",
              " 'a',\n",
              " 'cart',\n",
              " 'load',\n",
              " 'of',\n",
              " 'bricks',\n",
              " '.',\n",
              " \"'Excuse\",\n",
              " 'me',\n",
              " ',',\n",
              " \"'\",\n",
              " 'said',\n",
              " 'the',\n",
              " 'third',\n",
              " 'little',\n",
              " 'pig',\n",
              " ',',\n",
              " 'as',\n",
              " 'politely',\n",
              " 'as',\n",
              " 'his',\n",
              " 'mother',\n",
              " 'had',\n",
              " 'taught',\n",
              " 'him',\n",
              " '.',\n",
              " \"'Please\",\n",
              " 'can',\n",
              " 'you',\n",
              " 'sell',\n",
              " 'me',\n",
              " 'some',\n",
              " 'bricks',\n",
              " 'so',\n",
              " 'I',\n",
              " 'can',\n",
              " 'build',\n",
              " 'a',\n",
              " 'house',\n",
              " '?',\n",
              " \"'\",\n",
              " \"'Of\",\n",
              " 'course',\n",
              " ',',\n",
              " \"'\",\n",
              " 'said',\n",
              " 'the',\n",
              " 'man',\n",
              " '.',\n",
              " \"'Where\",\n",
              " 'would',\n",
              " 'you',\n",
              " 'like',\n",
              " 'me',\n",
              " 'to',\n",
              " 'unload',\n",
              " 'them',\n",
              " '?',\n",
              " \"'\",\n",
              " 'The',\n",
              " 'third',\n",
              " 'little',\n",
              " 'pig',\n",
              " 'looked',\n",
              " 'around',\n",
              " 'and',\n",
              " 'saw',\n",
              " 'a',\n",
              " 'nice',\n",
              " 'patch',\n",
              " 'of',\n",
              " 'ground',\n",
              " 'under',\n",
              " 'a',\n",
              " 'tree',\n",
              " '.',\n",
              " \"'Over\",\n",
              " 'there',\n",
              " ',',\n",
              " \"'\",\n",
              " 'he',\n",
              " 'pointed',\n",
              " '.',\n",
              " 'They',\n",
              " 'all',\n",
              " 'set',\n",
              " 'to',\n",
              " 'work',\n",
              " 'and',\n",
              " 'by',\n",
              " 'nighttime',\n",
              " 'the',\n",
              " 'house',\n",
              " 'of',\n",
              " 'straw',\n",
              " 'and',\n",
              " 'the',\n",
              " 'house',\n",
              " 'of',\n",
              " 'sticks',\n",
              " 'were',\n",
              " 'built',\n",
              " 'but',\n",
              " 'the',\n",
              " 'house',\n",
              " 'of',\n",
              " 'bricks',\n",
              " 'was',\n",
              " 'only',\n",
              " 'just',\n",
              " 'beginning',\n",
              " 'to',\n",
              " 'rise',\n",
              " 'above',\n",
              " 'the',\n",
              " 'ground',\n",
              " '.',\n",
              " 'The',\n",
              " 'first',\n",
              " 'and',\n",
              " 'second',\n",
              " 'little',\n",
              " 'pigs',\n",
              " 'laughed',\n",
              " ',',\n",
              " 'they',\n",
              " 'thought',\n",
              " 'their',\n",
              " 'brother',\n",
              " 'was',\n",
              " 'really',\n",
              " 'silly',\n",
              " 'having',\n",
              " 'to',\n",
              " 'work',\n",
              " 'so',\n",
              " 'hard',\n",
              " 'when',\n",
              " 'they',\n",
              " 'had',\n",
              " 'finished',\n",
              " '.']"
            ]
          },
          "metadata": {},
          "execution_count": 13
        }
      ]
    },
    {
      "cell_type": "code",
      "source": [
        "nltk.download(\"stopwords\")\n",
        "from nltk.corpus import stopwords"
      ],
      "metadata": {
        "id": "_vHn4HMchtLe",
        "outputId": "c3b99fb0-df2b-4a3f-bc80-ecfa942f53a4",
        "colab": {
          "base_uri": "https://localhost:8080/"
        }
      },
      "execution_count": 14,
      "outputs": [
        {
          "output_type": "stream",
          "name": "stderr",
          "text": [
            "[nltk_data] Downloading package stopwords to /root/nltk_data...\n",
            "[nltk_data]   Package stopwords is already up-to-date!\n"
          ]
        }
      ]
    },
    {
      "cell_type": "code",
      "source": [
        "stop_words = set(stopwords.words(\"english\"))\n",
        "stop_words"
      ],
      "metadata": {
        "id": "1vzxSKYXhyv2",
        "outputId": "5383674c-ddba-486a-e5bf-10f01c234092",
        "colab": {
          "base_uri": "https://localhost:8080/"
        }
      },
      "execution_count": 15,
      "outputs": [
        {
          "output_type": "execute_result",
          "data": {
            "text/plain": [
              "{'a',\n",
              " 'about',\n",
              " 'above',\n",
              " 'after',\n",
              " 'again',\n",
              " 'against',\n",
              " 'ain',\n",
              " 'all',\n",
              " 'am',\n",
              " 'an',\n",
              " 'and',\n",
              " 'any',\n",
              " 'are',\n",
              " 'aren',\n",
              " \"aren't\",\n",
              " 'as',\n",
              " 'at',\n",
              " 'be',\n",
              " 'because',\n",
              " 'been',\n",
              " 'before',\n",
              " 'being',\n",
              " 'below',\n",
              " 'between',\n",
              " 'both',\n",
              " 'but',\n",
              " 'by',\n",
              " 'can',\n",
              " 'couldn',\n",
              " \"couldn't\",\n",
              " 'd',\n",
              " 'did',\n",
              " 'didn',\n",
              " \"didn't\",\n",
              " 'do',\n",
              " 'does',\n",
              " 'doesn',\n",
              " \"doesn't\",\n",
              " 'doing',\n",
              " 'don',\n",
              " \"don't\",\n",
              " 'down',\n",
              " 'during',\n",
              " 'each',\n",
              " 'few',\n",
              " 'for',\n",
              " 'from',\n",
              " 'further',\n",
              " 'had',\n",
              " 'hadn',\n",
              " \"hadn't\",\n",
              " 'has',\n",
              " 'hasn',\n",
              " \"hasn't\",\n",
              " 'have',\n",
              " 'haven',\n",
              " \"haven't\",\n",
              " 'having',\n",
              " 'he',\n",
              " 'her',\n",
              " 'here',\n",
              " 'hers',\n",
              " 'herself',\n",
              " 'him',\n",
              " 'himself',\n",
              " 'his',\n",
              " 'how',\n",
              " 'i',\n",
              " 'if',\n",
              " 'in',\n",
              " 'into',\n",
              " 'is',\n",
              " 'isn',\n",
              " \"isn't\",\n",
              " 'it',\n",
              " \"it's\",\n",
              " 'its',\n",
              " 'itself',\n",
              " 'just',\n",
              " 'll',\n",
              " 'm',\n",
              " 'ma',\n",
              " 'me',\n",
              " 'mightn',\n",
              " \"mightn't\",\n",
              " 'more',\n",
              " 'most',\n",
              " 'mustn',\n",
              " \"mustn't\",\n",
              " 'my',\n",
              " 'myself',\n",
              " 'needn',\n",
              " \"needn't\",\n",
              " 'no',\n",
              " 'nor',\n",
              " 'not',\n",
              " 'now',\n",
              " 'o',\n",
              " 'of',\n",
              " 'off',\n",
              " 'on',\n",
              " 'once',\n",
              " 'only',\n",
              " 'or',\n",
              " 'other',\n",
              " 'our',\n",
              " 'ours',\n",
              " 'ourselves',\n",
              " 'out',\n",
              " 'over',\n",
              " 'own',\n",
              " 're',\n",
              " 's',\n",
              " 'same',\n",
              " 'shan',\n",
              " \"shan't\",\n",
              " 'she',\n",
              " \"she's\",\n",
              " 'should',\n",
              " \"should've\",\n",
              " 'shouldn',\n",
              " \"shouldn't\",\n",
              " 'so',\n",
              " 'some',\n",
              " 'such',\n",
              " 't',\n",
              " 'than',\n",
              " 'that',\n",
              " \"that'll\",\n",
              " 'the',\n",
              " 'their',\n",
              " 'theirs',\n",
              " 'them',\n",
              " 'themselves',\n",
              " 'then',\n",
              " 'there',\n",
              " 'these',\n",
              " 'they',\n",
              " 'this',\n",
              " 'those',\n",
              " 'through',\n",
              " 'to',\n",
              " 'too',\n",
              " 'under',\n",
              " 'until',\n",
              " 'up',\n",
              " 've',\n",
              " 'very',\n",
              " 'was',\n",
              " 'wasn',\n",
              " \"wasn't\",\n",
              " 'we',\n",
              " 'were',\n",
              " 'weren',\n",
              " \"weren't\",\n",
              " 'what',\n",
              " 'when',\n",
              " 'where',\n",
              " 'which',\n",
              " 'while',\n",
              " 'who',\n",
              " 'whom',\n",
              " 'why',\n",
              " 'will',\n",
              " 'with',\n",
              " 'won',\n",
              " \"won't\",\n",
              " 'wouldn',\n",
              " \"wouldn't\",\n",
              " 'y',\n",
              " 'you',\n",
              " \"you'd\",\n",
              " \"you'll\",\n",
              " \"you're\",\n",
              " \"you've\",\n",
              " 'your',\n",
              " 'yours',\n",
              " 'yourself',\n",
              " 'yourselves'}"
            ]
          },
          "metadata": {},
          "execution_count": 15
        }
      ]
    },
    {
      "cell_type": "code",
      "source": [
        "sentence = sentences[0]\n",
        "sentence"
      ],
      "metadata": {
        "id": "wrAeah0Sh3Cv",
        "outputId": "fd35c82b-5612-4ce8-9fa9-f1f1fa0019d2",
        "colab": {
          "base_uri": "https://localhost:8080/",
          "height": 55
        }
      },
      "execution_count": 16,
      "outputs": [
        {
          "output_type": "execute_result",
          "data": {
            "text/plain": [
              "\"Mrs Pig was very tired: 'Oh dear,' she said to her three little pigs, 'I can’t do this work anymore, I’m afraid you must leave home and make your own way in the world.'\""
            ],
            "application/vnd.google.colaboratory.intrinsic+json": {
              "type": "string"
            }
          },
          "metadata": {},
          "execution_count": 16
        }
      ]
    },
    {
      "cell_type": "code",
      "source": [
        "words = word_tokenize(sentence)\n",
        "words"
      ],
      "metadata": {
        "id": "nH9bpSixh8V3",
        "outputId": "8815333a-b185-452f-a394-0e5685ff767b",
        "colab": {
          "base_uri": "https://localhost:8080/"
        }
      },
      "execution_count": 17,
      "outputs": [
        {
          "output_type": "execute_result",
          "data": {
            "text/plain": [
              "['Mrs',\n",
              " 'Pig',\n",
              " 'was',\n",
              " 'very',\n",
              " 'tired',\n",
              " ':',\n",
              " \"'Oh\",\n",
              " 'dear',\n",
              " ',',\n",
              " \"'\",\n",
              " 'she',\n",
              " 'said',\n",
              " 'to',\n",
              " 'her',\n",
              " 'three',\n",
              " 'little',\n",
              " 'pigs',\n",
              " ',',\n",
              " \"'\",\n",
              " 'I',\n",
              " 'can',\n",
              " '’',\n",
              " 't',\n",
              " 'do',\n",
              " 'this',\n",
              " 'work',\n",
              " 'anymore',\n",
              " ',',\n",
              " 'I',\n",
              " '’',\n",
              " 'm',\n",
              " 'afraid',\n",
              " 'you',\n",
              " 'must',\n",
              " 'leave',\n",
              " 'home',\n",
              " 'and',\n",
              " 'make',\n",
              " 'your',\n",
              " 'own',\n",
              " 'way',\n",
              " 'in',\n",
              " 'the',\n",
              " 'world',\n",
              " '.',\n",
              " \"'\"]"
            ]
          },
          "metadata": {},
          "execution_count": 17
        }
      ]
    },
    {
      "cell_type": "code",
      "source": [
        "import string\n",
        "\n",
        "words = [word for word in words if word not in string.punctuation]\n",
        "words"
      ],
      "metadata": {
        "id": "8J45OeLhiB5F",
        "outputId": "57a35820-ba67-4b49-8906-1ba1c4b6925f",
        "colab": {
          "base_uri": "https://localhost:8080/"
        }
      },
      "execution_count": 18,
      "outputs": [
        {
          "output_type": "execute_result",
          "data": {
            "text/plain": [
              "['Mrs',\n",
              " 'Pig',\n",
              " 'was',\n",
              " 'very',\n",
              " 'tired',\n",
              " \"'Oh\",\n",
              " 'dear',\n",
              " 'she',\n",
              " 'said',\n",
              " 'to',\n",
              " 'her',\n",
              " 'three',\n",
              " 'little',\n",
              " 'pigs',\n",
              " 'I',\n",
              " 'can',\n",
              " '’',\n",
              " 't',\n",
              " 'do',\n",
              " 'this',\n",
              " 'work',\n",
              " 'anymore',\n",
              " 'I',\n",
              " '’',\n",
              " 'm',\n",
              " 'afraid',\n",
              " 'you',\n",
              " 'must',\n",
              " 'leave',\n",
              " 'home',\n",
              " 'and',\n",
              " 'make',\n",
              " 'your',\n",
              " 'own',\n",
              " 'way',\n",
              " 'in',\n",
              " 'the',\n",
              " 'world']"
            ]
          },
          "metadata": {},
          "execution_count": 18
        }
      ]
    },
    {
      "cell_type": "code",
      "source": [
        "string.punctuation"
      ],
      "metadata": {
        "id": "8qUwVPHHiFS-",
        "outputId": "b01e976e-2849-4afe-8473-55b2bf0bf6dc",
        "colab": {
          "base_uri": "https://localhost:8080/",
          "height": 36
        }
      },
      "execution_count": 19,
      "outputs": [
        {
          "output_type": "execute_result",
          "data": {
            "text/plain": [
              "'!\"#$%&\\'()*+,-./:;<=>?@[\\\\]^_`{|}~'"
            ],
            "application/vnd.google.colaboratory.intrinsic+json": {
              "type": "string"
            }
          },
          "metadata": {},
          "execution_count": 19
        }
      ]
    },
    {
      "cell_type": "code",
      "source": [
        "filtered_words = [word for word in words if word.lower() not in stop_words]\n",
        "filtered_words"
      ],
      "metadata": {
        "id": "Cm5E5YNJiIVs",
        "outputId": "83afff7a-c1d2-4a5f-c933-374c84d3b81c",
        "colab": {
          "base_uri": "https://localhost:8080/"
        }
      },
      "execution_count": 20,
      "outputs": [
        {
          "output_type": "execute_result",
          "data": {
            "text/plain": [
              "['Mrs',\n",
              " 'Pig',\n",
              " 'tired',\n",
              " \"'Oh\",\n",
              " 'dear',\n",
              " 'said',\n",
              " 'three',\n",
              " 'little',\n",
              " 'pigs',\n",
              " '’',\n",
              " 'work',\n",
              " 'anymore',\n",
              " '’',\n",
              " 'afraid',\n",
              " 'must',\n",
              " 'leave',\n",
              " 'home',\n",
              " 'make',\n",
              " 'way',\n",
              " 'world']"
            ]
          },
          "metadata": {},
          "execution_count": 20
        }
      ]
    },
    {
      "cell_type": "markdown",
      "source": [
        "# Завдання 2\n",
        "\n",
        " * Зробіть стемінг слів\n",
        " * Зробіть лематизацію слів\n",
        " * Створіть `pandas.DataFrame` зі словами, що мають різний результат при стемінгу та лематизації. Має бути 3 стовпчика:\n",
        "  * оригінальне сово\n",
        "  * результат стемінгу\n",
        "  * результат лематизації\n"
      ],
      "metadata": {
        "id": "JmES6y8NDwgV"
      }
    },
    {
      "cell_type": "code",
      "source": [
        "from nltk.stem import PorterStemmer\n",
        "\n",
        "stemmer = PorterStemmer()"
      ],
      "metadata": {
        "id": "DNtDBH8lEWWl"
      },
      "execution_count": 21,
      "outputs": []
    },
    {
      "cell_type": "code",
      "source": [
        "stemmed_words = [stemmer.stem(word) for word in filtered_words]\n",
        "stemmed_words"
      ],
      "metadata": {
        "id": "P_8KFCw8ic2y",
        "outputId": "217a5f11-12ea-42d5-df55-0a743ba18804",
        "colab": {
          "base_uri": "https://localhost:8080/"
        }
      },
      "execution_count": 22,
      "outputs": [
        {
          "output_type": "execute_result",
          "data": {
            "text/plain": [
              "['mr',\n",
              " 'pig',\n",
              " 'tire',\n",
              " \"'oh\",\n",
              " 'dear',\n",
              " 'said',\n",
              " 'three',\n",
              " 'littl',\n",
              " 'pig',\n",
              " '’',\n",
              " 'work',\n",
              " 'anymor',\n",
              " '’',\n",
              " 'afraid',\n",
              " 'must',\n",
              " 'leav',\n",
              " 'home',\n",
              " 'make',\n",
              " 'way',\n",
              " 'world']"
            ]
          },
          "metadata": {},
          "execution_count": 22
        }
      ]
    },
    {
      "cell_type": "code",
      "source": [
        "from nltk.stem.snowball import SnowballStemmer\n",
        "\n",
        "\n",
        "snowball_stemmer = SnowballStemmer(language='english')\n",
        "\n",
        "[snowball_stemmer.stem(word) for word in filtered_words]"
      ],
      "metadata": {
        "id": "jGh1KUm5ijV7",
        "outputId": "1e6e2d67-c2ff-4119-9c2d-b29b268caf0d",
        "colab": {
          "base_uri": "https://localhost:8080/"
        }
      },
      "execution_count": 23,
      "outputs": [
        {
          "output_type": "execute_result",
          "data": {
            "text/plain": [
              "['mrs',\n",
              " 'pig',\n",
              " 'tire',\n",
              " 'oh',\n",
              " 'dear',\n",
              " 'said',\n",
              " 'three',\n",
              " 'littl',\n",
              " 'pig',\n",
              " '’',\n",
              " 'work',\n",
              " 'anymor',\n",
              " '’',\n",
              " 'afraid',\n",
              " 'must',\n",
              " 'leav',\n",
              " 'home',\n",
              " 'make',\n",
              " 'way',\n",
              " 'world']"
            ]
          },
          "metadata": {},
          "execution_count": 23
        }
      ]
    },
    {
      "cell_type": "code",
      "source": [
        "from nltk.stem import WordNetLemmatizer\n",
        "nltk.download('wordnet')\n",
        "\n",
        "lemmatizer = WordNetLemmatizer()"
      ],
      "metadata": {
        "id": "g1qHzndVimuW",
        "outputId": "68726189-2801-433f-cb75-5f094d10e5fa",
        "colab": {
          "base_uri": "https://localhost:8080/"
        }
      },
      "execution_count": 24,
      "outputs": [
        {
          "output_type": "stream",
          "name": "stderr",
          "text": [
            "[nltk_data] Downloading package wordnet to /root/nltk_data...\n"
          ]
        }
      ]
    },
    {
      "cell_type": "code",
      "source": [
        "filtered_words"
      ],
      "metadata": {
        "id": "yuosv4Vyislj",
        "outputId": "9bace3c8-47c9-49d9-9a62-c0d6185708d4",
        "colab": {
          "base_uri": "https://localhost:8080/"
        }
      },
      "execution_count": 25,
      "outputs": [
        {
          "output_type": "execute_result",
          "data": {
            "text/plain": [
              "['Mrs',\n",
              " 'Pig',\n",
              " 'tired',\n",
              " \"'Oh\",\n",
              " 'dear',\n",
              " 'said',\n",
              " 'three',\n",
              " 'little',\n",
              " 'pigs',\n",
              " '’',\n",
              " 'work',\n",
              " 'anymore',\n",
              " '’',\n",
              " 'afraid',\n",
              " 'must',\n",
              " 'leave',\n",
              " 'home',\n",
              " 'make',\n",
              " 'way',\n",
              " 'world']"
            ]
          },
          "metadata": {},
          "execution_count": 25
        }
      ]
    },
    {
      "cell_type": "code",
      "source": [
        "[lemmatizer.lemmatize(word, pos='v') for word in filtered_words]"
      ],
      "metadata": {
        "id": "wbahz-hliw7e",
        "outputId": "c8895078-212b-4c4d-b2b4-848a28dce116",
        "colab": {
          "base_uri": "https://localhost:8080/"
        }
      },
      "execution_count": 26,
      "outputs": [
        {
          "output_type": "execute_result",
          "data": {
            "text/plain": [
              "['Mrs',\n",
              " 'Pig',\n",
              " 'tire',\n",
              " \"'Oh\",\n",
              " 'dear',\n",
              " 'say',\n",
              " 'three',\n",
              " 'little',\n",
              " 'pig',\n",
              " '’',\n",
              " 'work',\n",
              " 'anymore',\n",
              " '’',\n",
              " 'afraid',\n",
              " 'must',\n",
              " 'leave',\n",
              " 'home',\n",
              " 'make',\n",
              " 'way',\n",
              " 'world']"
            ]
          },
          "metadata": {},
          "execution_count": 26
        }
      ]
    },
    {
      "cell_type": "code",
      "source": [
        "lemmatizer.lemmatize('better', pos='a')"
      ],
      "metadata": {
        "id": "_Ml_10Cvi1h7",
        "outputId": "0e01ea65-37a6-40aa-b0a4-8a23d57880fd",
        "colab": {
          "base_uri": "https://localhost:8080/",
          "height": 36
        }
      },
      "execution_count": 27,
      "outputs": [
        {
          "output_type": "execute_result",
          "data": {
            "text/plain": [
              "'good'"
            ],
            "application/vnd.google.colaboratory.intrinsic+json": {
              "type": "string"
            }
          },
          "metadata": {},
          "execution_count": 27
        }
      ]
    },
    {
      "cell_type": "code",
      "source": [
        "stemmer.stem('better')"
      ],
      "metadata": {
        "id": "_5JaHN-Ui4sK",
        "outputId": "a0247268-d150-4cbf-cc48-15db00fbd610",
        "colab": {
          "base_uri": "https://localhost:8080/",
          "height": 36
        }
      },
      "execution_count": 28,
      "outputs": [
        {
          "output_type": "execute_result",
          "data": {
            "text/plain": [
              "'better'"
            ],
            "application/vnd.google.colaboratory.intrinsic+json": {
              "type": "string"
            }
          },
          "metadata": {},
          "execution_count": 28
        }
      ]
    },
    {
      "cell_type": "markdown",
      "source": [
        "# Завдання 3\n",
        "Виділіть фрази за такими шаблонами:\n",
        "  * прикметник + іменник\n",
        "  * (хоча б 1 прикметник) + іменник\n",
        "  * (прислівник + дієслово) АБО (дієслово + прислівник)"
      ],
      "metadata": {
        "id": "D56Rwjf4EXC_"
      }
    },
    {
      "cell_type": "code",
      "source": [],
      "metadata": {
        "id": "G4Stff_zFQjv"
      },
      "execution_count": 7,
      "outputs": []
    }
  ]
}